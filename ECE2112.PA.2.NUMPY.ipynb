{
 "cells": [
  {
   "cell_type": "markdown",
   "id": "6fcb2e7a-c386-4577-8322-f2a9ee5859fb",
   "metadata": {},
   "source": [
    "## **Programming Assignment 2**\n",
    "#### Numerical Python (NumPy)\n",
    "#### ----------------------------------------------------------------------------------------------------------"
   ]
  },
  {
   "cell_type": "markdown",
   "id": "528953a6-0a8a-4a27-8f0d-1c43511f6368",
   "metadata": {},
   "source": [
    "#### **01 Normalization Problem**"
   ]
  },
  {
   "cell_type": "code",
   "execution_count": 30,
   "id": "b5558dae-523a-466b-b799-8080372a5d07",
   "metadata": {},
   "outputs": [],
   "source": [
    "# to access NumPy library\n",
    "import numpy as np \n",
    "\n",
    "# generates random 5x5 ndarray in variable \n",
    "X = np.random.random((5,5))"
   ]
  },
  {
   "cell_type": "code",
   "execution_count": 31,
   "id": "97e40074-20b2-4a89-b052-3103eb5eaab3",
   "metadata": {},
   "outputs": [],
   "source": [
    "# normalize the ndaaray using the formula\n",
    "mean = X.mean() # calculates the mean\n",
    "std = X.std() # calculates the standard deviation\n",
    "\n",
    "# formula\n",
    "X_normalized = (X - mean) / std "
   ]
  },
  {
   "cell_type": "code",
   "execution_count": 32,
   "id": "3a5c4357-d2e1-4b90-809f-b13938cbb9a3",
   "metadata": {},
   "outputs": [
    {
     "name": "stdout",
     "output_type": "stream",
     "text": [
      "The normalized NumPy array has been saved as ‘X_normalized.npy’.\n"
     ]
    }
   ],
   "source": [
    "# saving the noramlized ndarray data as 'X_normalized.npy'\n",
    "np.save('X_normalized.npy', X_normalized)\n",
    "\n",
    "# display a successful message\n",
    "print(\"The normalized NumPy array has been saved as ‘X_normalized.npy’.\")"
   ]
  },
  {
   "cell_type": "code",
   "execution_count": 33,
   "id": "9cecc74a-7717-414e-8906-8a0770e51eb2",
   "metadata": {},
   "outputs": [
    {
     "data": {
      "text/plain": [
       "array([[-1.68724094,  1.0836355 ,  0.8330781 ,  0.5255478 ,  0.23513261],\n",
       "       [-0.78314911,  0.96494151,  1.3862755 , -0.29981152,  1.08544036],\n",
       "       [-0.25330901, -0.38491966, -1.50472513, -0.86494597,  1.15939421],\n",
       "       [ 1.30963222, -1.73095719,  1.21152323,  0.4372095 , -1.46126755],\n",
       "       [ 0.06752432, -0.82993508,  0.3554339 ,  0.26555233, -1.12005994]])"
      ]
     },
     "execution_count": 33,
     "metadata": {},
     "output_type": "execute_result"
    }
   ],
   "source": [
    "# display the normalized NumPY (ndarray)\n",
    "data = np.load('X_normalized.npy')\n",
    "data"
   ]
  },
  {
   "cell_type": "markdown",
   "id": "24386b9e-17ff-41c3-add6-deb215d3567c",
   "metadata": {},
   "source": [
    "####"
   ]
  },
  {
   "cell_type": "markdown",
   "id": "398d394f-eeb1-4fb4-a7a5-93a3d5cf6b32",
   "metadata": {},
   "source": [
    "#### **02 Division by 3 Problem**"
   ]
  },
  {
   "cell_type": "code",
   "execution_count": 43,
   "id": "750e1e25-be71-4bfe-9d56-7be59a359887",
   "metadata": {},
   "outputs": [],
   "source": [
    "# to access NumPy library\n",
    "import numpy as np \n",
    "\n",
    "# generates a 10x10 ndarray with squares of the first 100 positive integers\n",
    "squares = np.arange(1, 101)**2\n",
    "squares_reshape = squares.reshape(10, 10)"
   ]
  },
  {
   "cell_type": "code",
   "execution_count": 44,
   "id": "7805dd52-5a79-430d-a848-896a09394868",
   "metadata": {},
   "outputs": [
    {
     "name": "stdout",
     "output_type": "stream",
     "text": [
      "10x10 ndarray of squares of first 100 positive integers:\n",
      "[[    1     4     9    16    25    36    49    64    81   100]\n",
      " [  121   144   169   196   225   256   289   324   361   400]\n",
      " [  441   484   529   576   625   676   729   784   841   900]\n",
      " [  961  1024  1089  1156  1225  1296  1369  1444  1521  1600]\n",
      " [ 1681  1764  1849  1936  2025  2116  2209  2304  2401  2500]\n",
      " [ 2601  2704  2809  2916  3025  3136  3249  3364  3481  3600]\n",
      " [ 3721  3844  3969  4096  4225  4356  4489  4624  4761  4900]\n",
      " [ 5041  5184  5329  5476  5625  5776  5929  6084  6241  6400]\n",
      " [ 6561  6724  6889  7056  7225  7396  7569  7744  7921  8100]\n",
      " [ 8281  8464  8649  8836  9025  9216  9409  9604  9801 10000]]\n"
     ]
    }
   ],
   "source": [
    "# display the 10x10 array\n",
    "print(\"10x10 ndarray of squares of first 100 positive integers:\")\n",
    "print(squares_reshape)"
   ]
  },
  {
   "cell_type": "code",
   "execution_count": 45,
   "id": "90f9eeee-ecad-42a5-be10-8a19d82c6aa8",
   "metadata": {},
   "outputs": [],
   "source": [
    "# find for the elements in the ndarray that are divisible by 3\n",
    "div_by_3 = squares_reshape[squares_reshape % 3 == 0]"
   ]
  },
  {
   "cell_type": "code",
   "execution_count": 37,
   "id": "0d8a2eeb-5535-45c8-9698-2cb322080019",
   "metadata": {},
   "outputs": [],
   "source": [
    "# store the elements that are divisible by 3 to a file named 'div_by_3.npy'\n",
    "np.save('div_by_3.npy', div_by_3)"
   ]
  },
  {
   "cell_type": "code",
   "execution_count": 47,
   "id": "f4a1e8f5-4ed0-4985-bffc-c25060185100",
   "metadata": {},
   "outputs": [
    {
     "name": "stdout",
     "output_type": "stream",
     "text": [
      "The elements that are divisible by 3 has been saved as ‘div_by_3.npy’.\n"
     ]
    }
   ],
   "source": [
    "# display a successful message\n",
    "print(\"The elements that are divisible by 3 has been saved as ‘div_by_3.npy’.\")"
   ]
  },
  {
   "cell_type": "code",
   "execution_count": 48,
   "id": "42b3d63e-8659-46b4-a7e2-36021d9b266b",
   "metadata": {},
   "outputs": [
    {
     "data": {
      "text/plain": [
       "array([   9,   36,   81,  144,  225,  324,  441,  576,  729,  900, 1089,\n",
       "       1296, 1521, 1764, 2025, 2304, 2601, 2916, 3249, 3600, 3969, 4356,\n",
       "       4761, 5184, 5625, 6084, 6561, 7056, 7569, 8100, 8649, 9216, 9801])"
      ]
     },
     "execution_count": 48,
     "metadata": {},
     "output_type": "execute_result"
    }
   ],
   "source": [
    "# display the elements\n",
    "data = np.load('div_by_3.npy')\n",
    "data"
   ]
  }
 ],
 "metadata": {
  "kernelspec": {
   "display_name": "Python 3 (ipykernel)",
   "language": "python",
   "name": "python3"
  },
  "language_info": {
   "codemirror_mode": {
    "name": "ipython",
    "version": 3
   },
   "file_extension": ".py",
   "mimetype": "text/x-python",
   "name": "python",
   "nbconvert_exporter": "python",
   "pygments_lexer": "ipython3",
   "version": "3.13.5"
  }
 },
 "nbformat": 4,
 "nbformat_minor": 5
}
